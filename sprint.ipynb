{
  "nbformat": 4,
  "nbformat_minor": 0,
  "metadata": {
    "colab": {
      "provenance": []
    },
    "kernelspec": {
      "name": "python3",
      "display_name": "Python 3"
    },
    "language_info": {
      "name": "python"
    }
  },
  "cells": [
    {
      "cell_type": "code",
      "execution_count": null,
      "metadata": {
        "colab": {
          "base_uri": "https://localhost:8080/"
        },
        "id": "BfX66TIigEUX",
        "outputId": "a159cf40-57ae-4d1d-8eaf-7b9add96224d"
      },
      "outputs": [
        {
          "output_type": "stream",
          "name": "stdout",
          "text": [
            "+------+----------+\n",
            "|SERIES|DIFFERENCE|\n",
            "+------+----------+\n",
            "|    YH|   61270.1|\n",
            "|    NS|  354013.9|\n",
            "|    NL|1581525.31|\n",
            "|    NK|1010121.69|\n",
            "|    Z4|   36956.6|\n",
            "|    NJ|7421503.24|\n",
            "|    NX|  12728.72|\n",
            "|    YS|   79055.0|\n",
            "|    NW|  203456.5|\n",
            "|    NA|3331953.97|\n",
            "|    Z8|  332530.0|\n",
            "|    YA|   2354.92|\n",
            "|    NP|  316500.2|\n",
            "|    N3|5894945.91|\n",
            "|    NH|1686244.58|\n",
            "|    NE|2538813.87|\n",
            "|    NC|2505038.79|\n",
            "|    NQ|    6280.0|\n",
            "|    Z1| 202640.32|\n",
            "|    NR|  461379.5|\n",
            "+------+----------+\n",
            "only showing top 20 rows\n",
            "\n"
          ]
        }
      ],
      "source": [
        "from pyspark.sql import SparkSession\n",
        "spark=SparkSession.builder.appName('df analysis').getOrCreate()\n",
        "new_share_df=[\"MARKET\",\"SERIES\",\"SYMBOL\",\"SECURITY\",\"PREV_CL_PR\",\"OPEN_PRICE\",\"HIGH_PRICE\",\"LOW_PRICE\",\"CLOSE_PRICE\",\"NET_TRDVAL\",\n",
        "              \"NET_TRDQTY\",\"CORP_IND\",\"TRADES\",\"HI_52_WK\",\"LO_52_WK\"]\n",
        "share_with_columns=df_of_sharemarket.toDF(*new_share_df)\n",
        "from pyspark.sql.functions import sum\n",
        "share_ques9 = share_with_columns.groupBy(\"SERIES\").agg((sum(share_with_columns[\"NET_TRDVAL\"]) - sum(share_with_columns[\"NET_TRDQTY\"])).alias(\"DIFFERENCE\"))\n",
        "share_ques9.rdd.getNumPartitions()\n",
        "share_ques9=share_ques9.coalesce(1)\n",
        "share_ques9.write.orc(\"/content/share_ques9.orc\")\n",
        "share_ques9.show()"
      ]
    },
    {
      "cell_type": "code",
      "execution_count": null,
      "metadata": {
        "colab": {
          "base_uri": "https://localhost:8080/"
        },
        "outputId": "58e2612f-5a3e-4550-b984-2c2f5b22b07d",
        "id": "2JDlcDNe1CYO"
      },
      "outputs": [
        {
          "output_type": "stream",
          "name": "stdout",
          "text": [
            "+------+----------+\n",
            "|SERIES|NET_TRDQTY|\n",
            "+------+----------+\n",
            "|    N3|    143810|\n",
            "+------+----------+\n",
            "\n"
          ]
        }
      ],
      "source": [
        "from pyspark.sql import SparkSession\n",
        "spark=SparkSession.builder.appName('df analysis').getOrCreate()\n",
        "new_share_df=[\"MARKET\",\"SERIES\",\"SYMBOL\",\"SECURITY\",\"PREV_CL_PR\",\"OPEN_PRICE\",\"HIGH_PRICE\",\"LOW_PRICE\",\"CLOSE_PRICE\",\"NET_TRDVAL\",\n",
        "              \"NET_TRDQTY\",\"CORP_IND\",\"TRADES\",\"HI_52_WK\",\"LO_52_WK\"]\n",
        "share_with_columns=df_of_sharemarket.toDF(*new_share_df)\n",
        "from pyspark.sql.functions import sum, col\n",
        "share_ques6 = share_with_columns.orderBy(col(\"NET_TRDQTY\").desc()).select(\"SERIES\",\"NET_TRDQTY\").limit(1)\n",
        "share_ques6.rdd.getNumPartitions()\n",
        "share_ques6=share_ques6.coalesce(1)\n",
        "share_ques6.write.orc(\"/content/share_ques6.orc\", mode=\"overwrite\")\n",
        "share_ques6.show()"
      ]
    },
    {
      "cell_type": "code",
      "source": [],
      "metadata": {
        "id": "nGx8bLkTVVGq"
      },
      "execution_count": null,
      "outputs": []
    },
    {
      "cell_type": "code",
      "execution_count": null,
      "metadata": {
        "colab": {
          "base_uri": "https://localhost:8080/"
        },
        "outputId": "58e2612f-5a3e-4550-b984-2c2f5b22b07d",
        "id": "XzZga2PvVVbc"
      },
      "outputs": [
        {
          "output_type": "stream",
          "name": "stdout",
          "text": [
            "+------+----------+\n",
            "|SERIES|NET_TRDQTY|\n",
            "+------+----------+\n",
            "|    N3|    143810|\n",
            "+------+----------+\n",
            "\n"
          ]
        }
      ],
      "source": [
        "from pyspark.sql import SparkSession\n",
        "spark=SparkSession.builder.appName('df analysis').getOrCreate()\n",
        "new_share_df=[\"MARKET\",\"SERIES\",\"SYMBOL\",\"SECURITY\",\"PREV_CL_PR\",\"OPEN_PRICE\",\"HIGH_PRICE\",\"LOW_PRICE\",\"CLOSE_PRICE\",\"NET_TRDVAL\",\n",
        "              \"NET_TRDQTY\",\"CORP_IND\",\"TRADES\",\"HI_52_WK\",\"LO_52_WK\"]\n",
        "share_with_columns=df_of_sharemarket.toDF(*new_share_df)\n",
        "from pyspark.sql.functions import sum, col\n",
        "share_ques6 = share_with_columns.\n",
        "share_ques6.rdd.getNumPartitions()\n",
        "share_ques6=share_ques6.coalesce(1)\n",
        "share_ques6.write.orc(\"/content/share_ques6.orc\", mode=\"overwrite\")\n",
        "share_ques6.show()"
      ]
    },
    {
      "cell_type": "code",
      "execution_count": null,
      "metadata": {
        "colab": {
          "base_uri": "https://localhost:8080/"
        },
        "outputId": "1f5635a0-5d39-4827-d6d0-d687281002e2",
        "id": "EQ4kJKjLVW3x"
      },
      "outputs": [
        {
          "output_type": "stream",
          "name": "stdout",
          "text": [
            "+------+----------+\n",
            "|SERIES|NET_TRDQTY|\n",
            "+------+----------+\n",
            "|    N3|    143810|\n",
            "+------+----------+\n",
            "\n"
          ]
        }
      ],
      "source": [
        "from pyspark.sql import SparkSession\n",
        "spark=SparkSession.builder.appName('df analysis').getOrCreate()\n",
        "new_share_df=[\"MARKET\",\"SERIES\",\"SYMBOL\",\"SECURITY\",\"PREV_CL_PR\",\"OPEN_PRICE\",\"HIGH_PRICE\",\"LOW_PRICE\",\"CLOSE_PRICE\",\"NET_TRDVAL\",\n",
        "              \"NET_TRDQTY\",\"CORP_IND\",\"TRADES\",\"HI_52_WK\",\"LO_52_WK\"]\n",
        "share_with_columns=df_of_sharemarket.toDF(*new_share_df)\n",
        "share_ques6 = share_with_columns.orderBy(col(\"NET_TRDQTY\").desc()).select(\"SERIES\",\"NET_TRDQTY\").limit(1)\n",
        "share_ques6.rdd.getNumPartitions()\n",
        "share_ques6=share_ques6.coalesce(1)\n",
        "share_ques6.write.orc(\"/content/share_ques6.orc\", mode=\"overwrite\")\n",
        "share_ques6.show()"
      ]
    },
    {
      "cell_type": "code",
      "source": [
        "from pyspark.sql import SparkSession\n",
        "spark=SparkSession.builder.appName('df analysis').getOrCreate()\n",
        "new_share_df=[\"MARKET\",\"SERIES\",\"SYMBOL\",\"SECURITY\",\"PREV_CL_PR\",\"OPEN_PRICE\",\"HIGH_PRICE\",\"LOW_PRICE\",\"CLOSE_PRICE\",\"NET_TRDVAL\",\n",
        "              \"NET_TRDQTY\",\"CORP_IND\",\"TRADES\",\"HI_52_WK\",\"LO_52_WK\"]\n",
        "share_with_columns=df_of_sharemarket.toDF(*new_share_df)\n",
        "from pyspark.sql.functions import max,min\n",
        "share_ques7 = share_with_columns.select(\n",
        "max(\"OPEN_PRICE\").alias(\"Highest_Open_Price\"), min(\"OPEN_PRICE\").alias(\"Lowest_Open_Price\")\n",
        ")\n",
        "share_ques7.rdd.getNumPartitions()\n",
        "share_ques7=share_ques7.coalesce(1)\n",
        "share_ques7.write.orc(\"/content/share_ques7.orc\", mode=\"overwrite\")\n",
        "share_ques7.show()"
      ],
      "metadata": {
        "colab": {
          "base_uri": "https://localhost:8080/"
        },
        "id": "ZdhQI6F0yJUg",
        "outputId": "a6561735-5afc-45fd-b7b9-0ec9fc7cf215"
      },
      "execution_count": null,
      "outputs": [
        {
          "output_type": "stream",
          "name": "stdout",
          "text": [
            "+------------------+-----------------+\n",
            "|Highest_Open_Price|Lowest_Open_Price|\n",
            "+------------------+-----------------+\n",
            "|           11450.0|            13.75|\n",
            "+------------------+-----------------+\n",
            "\n"
          ]
        }
      ]
    },
    {
      "cell_type": "code",
      "source": [
        "from pyspark.sql import SparkSession\n",
        "spark=SparkSession.builder.appName('df analysis').getOrCreate()\n",
        "new_share_df=[\"MARKET\",\"SERIES\",\"SYMBOL\",\"SECURITY\",\"PREV_CL_PR\",\"OPEN_PRICE\",\"HIGH_PRICE\",\"LOW_PRICE\",\"CLOSE_PRICE\",\"NET_TRDVAL\",\n",
        "              \"NET_TRDQTY\",\"CORP_IND\",\"TRADES\",\"HI_52_WK\",\"LO_52_WK\"]\n",
        "share_with_columns=df_of_sharemarket.toDF(*new_share_df)\n",
        "# Add your desired operations on share_with_columns here and assign the result to share_ques5\n",
        "# share_ques5 = share_with_columns....\n",
        "# share_ques5.rdd.getNumPartitions()\n",
        "# share_ques5=share_ques5.coalesce(1)\n",
        "# share_ques5.write.orc(\"/content/share_ques5.orc\", mode=\"overwrite\")\n",
        "# share_ques5.show()"
      ],
      "metadata": {
        "colab": {
          "base_uri": "https://localhost:8080/",
          "height": 108
        },
        "outputId": "bc37ad1c-b9d9-46b7-85d4-18749d4809b4",
        "id": "O2mToTol3jN2"
      },
      "execution_count": null,
      "outputs": [
        {
          "output_type": "error",
          "ename": "SyntaxError",
          "evalue": "invalid syntax (ipython-input-57-3401526081.py, line 6)",
          "traceback": [
            "\u001b[0;36m  File \u001b[0;32m\"/tmp/ipython-input-57-3401526081.py\"\u001b[0;36m, line \u001b[0;32m6\u001b[0m\n\u001b[0;31m    from pyspark.sql.functions import\u001b[0m\n\u001b[0m                                      ^\u001b[0m\n\u001b[0;31mSyntaxError\u001b[0m\u001b[0;31m:\u001b[0m invalid syntax\n"
          ]
        }
      ]
    },
    {
      "cell_type": "code",
      "source": [],
      "metadata": {
        "id": "Byhxd_sd4NYk"
      },
      "execution_count": null,
      "outputs": []
    },
    {
      "cell_type": "code",
      "source": [
        "from pyspark.sql import SparkSession\n",
        "spark=SparkSession.builder.appName('df analysis').getOrCreate()\n",
        "new_share_df=[\"MARKET\",\"SERIES\",\"SYMBOL\",\"SECURITY\",\"PREV_CL_PR\",\"OPEN_PRICE\",\"HIGH_PRICE\",\"LOW_PRICE\",\"CLOSE_PRICE\",\"NET_TRDVAL\",\n",
        "              \"NET_TRDQTY\",\"CORP_IND\",\"TRADES\",\"HI_52_WK\",\"LO_52_WK\"]\n",
        "share_with_columns=df_of_sharemarket.toDF(*new_share_df)\n",
        "share_ques1 = share_with_columns.select(\"SERIES\").distinct().count()\n",
        "print(share_ques1)"
      ],
      "metadata": {
        "colab": {
          "base_uri": "https://localhost:8080/"
        },
        "outputId": "3066ef4a-5467-4279-d966-020eeae5da16",
        "id": "kJpF2M7qJZle"
      },
      "execution_count": null,
      "outputs": [
        {
          "output_type": "stream",
          "name": "stdout",
          "text": [
            "53\n"
          ]
        }
      ]
    },
    {
      "cell_type": "code",
      "source": [
        "from pyspark.sql import SparkSession\n",
        "spark=SparkSession.builder.appName('df analysis').getOrCreate()\n",
        "new_share_df=[\"MARKET\",\"SERIES\",\"SYMBOL\",\"SECURITY\",\"PREV_CL_PR\",\"OPEN_PRICE\",\"HIGH_PRICE\",\"LOW_PRICE\",\"CLOSE_PRICE\",\"NET_TRDVAL\",\n",
        "              \"NET_TRDQTY\",\"CORP_IND\",\"TRADES\",\"HI_52_WK\",\"LO_52_WK\"]\n",
        "share_with_columns=df_of_sharemarket.toDF(*new_share_df)\n",
        "share_ques2 = share_with_columns.select(\"SERIES\").distinct()\n",
        "share_ques2=share_ques2.coalesce(1)\n",
        "share_ques2.write.orc(\"/content/share_ques2.orc\", mode=\"overwrite\")\n",
        "share_ques2.show()"
      ],
      "metadata": {
        "colab": {
          "base_uri": "https://localhost:8080/"
        },
        "outputId": "80df9f93-52fe-48fb-e07b-e2b21802a734",
        "id": "R40ljpeFJYke"
      },
      "execution_count": null,
      "outputs": [
        {
          "output_type": "stream",
          "name": "stdout",
          "text": [
            "+------+\n",
            "|SERIES|\n",
            "+------+\n",
            "|    YH|\n",
            "|    NS|\n",
            "|    NL|\n",
            "|    NK|\n",
            "|    Z4|\n",
            "|    NJ|\n",
            "|    NX|\n",
            "|    YS|\n",
            "|    NW|\n",
            "|    NA|\n",
            "|    Z8|\n",
            "|    YA|\n",
            "|    NP|\n",
            "|    N3|\n",
            "|    NH|\n",
            "|    NE|\n",
            "|    NC|\n",
            "|    NQ|\n",
            "|    Z1|\n",
            "|    NR|\n",
            "+------+\n",
            "only showing top 20 rows\n",
            "\n"
          ]
        }
      ]
    },
    {
      "cell_type": "code",
      "source": [
        "from pyspark.sql import SparkSession\n",
        "spark=SparkSession.builder.appName('df analysis').getOrCreate()\n",
        "new_share_df=[\"MARKET\",\"SERIES\",\"SYMBOL\",\"SECURITY\",\"PREV_CL_PR\",\"OPEN_PRICE\",\"HIGH_PRICE\",\"LOW_PRICE\",\"CLOSE_PRICE\",\"NET_TRDVAL\",\n",
        "              \"NET_TRDQTY\",\"CORP_IND\",\"TRADES\",\"HI_52_WK\",\"LO_52_WK\"]\n",
        "share_with_columns=df_of_sharemarket.toDF(*new_share_df)\n",
        "from pyspark.sql.functions import sum\n",
        "import time\n",
        "partitioned_df = share_with_columns.repartition(\"SERIES\")\n",
        "start = time.time()\n",
        "\n",
        "share_ques3= share_with_columns.groupBy(\"SERIES\").agg(\n",
        "    sum(\"PREV_CL_PR\").alias(\"sum_PREV_CL_PR\"),\n",
        "    sum(\"OPEN_PRICE\").alias(\"sum_OPEN_PRICE\"),\n",
        "    sum(\"HIGH_PRICE\").alias(\"sum_HIGH_PRICE\"),\n",
        "    sum(\"LOW_PRICE\").alias(\"sum_LOW_PRICE\"),\n",
        "    sum(\"CLOSE_PRICE\").alias(\"sum_CLOSE_PRICE\")\n",
        ")\n",
        "\n",
        "end = time.time()\n",
        "share_ques3.show()\n",
        "print(end-start)\n",
        "share_ques3.rdd.getNumPartitions()\n",
        "share_ques3=share_ques3.coalesce(1)\n",
        "share_ques3.write.orc(\"/content/share_ques3.orc\", mode=\"overwrite\")"
      ],
      "metadata": {
        "colab": {
          "base_uri": "https://localhost:8080/"
        },
        "outputId": "8867013f-bb3f-4120-afcc-603cbeb088ac",
        "id": "9UQJdTxqJXFy"
      },
      "execution_count": null,
      "outputs": [
        {
          "output_type": "stream",
          "name": "stdout",
          "text": [
            "+------+------------------+------------------+------------------+-------------+---------------+\n",
            "|SERIES|    sum_PREV_CL_PR|    sum_OPEN_PRICE|    sum_HIGH_PRICE|sum_LOW_PRICE|sum_CLOSE_PRICE|\n",
            "+------+------------------+------------------+------------------+-------------+---------------+\n",
            "|    YH|            1021.0|            1021.0|           1028.01|       1021.0|        1028.01|\n",
            "|    NS|            1025.6|            1025.0|            1040.0|       1025.0|         1039.0|\n",
            "|    NL|           3395.97|           3430.58|            3431.5|       3368.1|         3380.9|\n",
            "|    NK|           1940.51|            1927.0|           1976.75|      1912.01|        1915.72|\n",
            "|    Z4|           1020.65|            1040.0|            1040.0|       1022.1|         1022.1|\n",
            "|    NJ|           4296.79|            4285.7|           4296.99|       4281.0|        4291.49|\n",
            "|    NX|             349.6|            349.35|            349.35|       282.11|         295.07|\n",
            "|    YS|            1140.0|            1130.0|            1135.0|       1130.0|         1135.0|\n",
            "|    NW|            1088.1|           1089.05|           1089.05|       1089.0|         1089.0|\n",
            "|    NA|          19861.54|           19748.0|20098.340000000004|      19723.0|       20059.57|\n",
            "|    Z8|            1040.0|            1040.5|            1040.5|       1035.0|         1035.0|\n",
            "|    YA|             256.0|             256.0|             301.0|        256.0|         300.98|\n",
            "|    NP|           1293.55|            1295.1|            1295.1|       1291.0|         1291.0|\n",
            "|    N3|           2092.27|           2086.24|2088.6000000000004|       2085.9|        2087.38|\n",
            "|    NH|           4688.56|           4690.05|           4711.39|      4683.55|        4705.37|\n",
            "|    NE|16771.170000000002|16807.010000000002|           16860.4|      16771.2|       16846.83|\n",
            "|    NC|          14393.07|          14319.21|14391.699999999999|      14318.5|        14382.9|\n",
            "|    NQ|             300.1|             315.0|             315.0|        315.0|          315.0|\n",
            "|    Z1|            1260.0|            1260.0|            1299.0|      1258.11|         1299.0|\n",
            "|    NR|            1270.0|            1218.1|            1240.0|       1204.1|        1229.24|\n",
            "+------+------------------+------------------+------------------+-------------+---------------+\n",
            "only showing top 20 rows\n",
            "\n",
            "0.05232834815979004\n"
          ]
        }
      ]
    },
    {
      "cell_type": "code",
      "execution_count": null,
      "metadata": {
        "colab": {
          "base_uri": "https://localhost:8080/"
        },
        "outputId": "6890e4fc-5c75-4b37-dd78-b4391b561276",
        "id": "rgHkxJb-4Q1q"
      },
      "outputs": [
        {
          "output_type": "stream",
          "name": "stdout",
          "text": [
            "+------+-----+\n",
            "|gender|count|\n",
            "+------+-----+\n",
            "|Female|  922|\n",
            "|  Male| 1085|\n",
            "+------+-----+\n",
            "\n"
          ]
        }
      ],
      "source": [
        "from pyspark.sql import SparkSession\n",
        "spark=SparkSession.builder.appName('df analysis').getOrCreate()\n",
        "df_of_bank = spark.read.csv(\"/content/Bank_Customers.csv\",inferSchema=True,header=True)\n",
        "from pyspark.sql.functions import col, count\n",
        "wealth_ques3=df_of_bank.filter(col(\"Risk Profile\") > 0.40)\n",
        "risk_count_by_gender = wealth_ques3.groupBy(\"gender\").count().alias(\"count\")\n",
        "wealth_ques3.rdd.getNumPartitions()\n",
        "wealth_ques3=wealth_ques3.coalesce(1)\n",
        "wealth_ques3.write.orc(\"/content/wealth_ques3.orc\", mode=\"overwrite\")\n",
        "risk_count_by_gender.show()"
      ]
    },
    {
      "cell_type": "code",
      "source": [],
      "metadata": {
        "id": "L3VOfOvX4NzG"
      },
      "execution_count": null,
      "outputs": []
    },
    {
      "cell_type": "code",
      "execution_count": null,
      "metadata": {
        "colab": {
          "base_uri": "https://localhost:8080/"
        },
        "outputId": "30dd79de-e6db-4ed3-ef81-0ac9d2c2a9d2",
        "id": "oxcEgUqL4XUC"
      },
      "outputs": [
        {
          "output_type": "stream",
          "name": "stdout",
          "text": [
            "+---+----------------+\n",
            "|Age|total_net_assets|\n",
            "+---+----------------+\n",
            "| 31|             404|\n",
            "| 85|               1|\n",
            "| 65|              18|\n",
            "| 53|              74|\n",
            "| 78|               5|\n",
            "| 34|             447|\n",
            "| 81|               4|\n",
            "| 28|             273|\n",
            "| 76|              11|\n",
            "| 27|             209|\n",
            "| 26|             200|\n",
            "| 44|             257|\n",
            "| 22|              84|\n",
            "| 47|             175|\n",
            "| 52|             102|\n",
            "| 40|             432|\n",
            "| 20|              40|\n",
            "| 57|              75|\n",
            "| 54|              84|\n",
            "| 48|             168|\n",
            "+---+----------------+\n",
            "only showing top 20 rows\n",
            "\n",
            "+--------+----------------+\n",
            "| Revenue|total_net_assets|\n",
            "+--------+----------------+\n",
            "|35838.75|               1|\n",
            "|30060.33|               1|\n",
            "| 9599.69|               1|\n",
            "|15215.72|               1|\n",
            "|74171.66|               1|\n",
            "|60495.18|               1|\n",
            "|71882.81|               1|\n",
            "|15055.22|               1|\n",
            "|91074.23|               1|\n",
            "| 34249.0|               1|\n",
            "| 9228.47|               1|\n",
            "|12847.63|               1|\n",
            "| 20189.9|               1|\n",
            "|33690.76|               1|\n",
            "|10006.49|               1|\n",
            "|48039.84|               1|\n",
            "|79983.81|               1|\n",
            "|71057.62|               1|\n",
            "| 6662.04|               1|\n",
            "|33551.89|               1|\n",
            "+--------+----------------+\n",
            "only showing top 20 rows\n",
            "\n",
            "+------+--------------+\n",
            "|Gender|max_net_assets|\n",
            "+------+--------------+\n",
            "|Female|         99974|\n",
            "|  Male|         99981|\n",
            "+------+--------------+\n",
            "\n"
          ]
        }
      ],
      "source": [
        "from pyspark.sql import SparkSession\n",
        "spark=SparkSession.builder.appName('df analysis').getOrCreate()\n",
        "df_of_bank = spark.read.csv(\"/content/Bank_Customers.csv\",inferSchema=True,header=True)\n",
        "from pyspark.sql.functions import count, max , col\n",
        "wealth_ques2_age_agg = df_of_bank.filter(col(\"Age\").isNotNull()).groupBy(\"Age\").agg(count(\"Net Assets\").alias(\"total_net_assets\"))\n",
        "wealth_ques2_revenue_agg = df_of_bank.filter(col(\"Revenue\").isNotNull()).groupBy(\"Revenue\").agg(count(\"Net Assets\").alias(\"total_net_assets\"))\n",
        "wealth_ques2 = df_of_bank.filter(col(\"Gender\").isNotNull()).groupBy(\"Gender\").agg(max(\"Net Assets\").alias(\"max_net_assets\"))\n",
        "wealth_ques2.rdd.getNumPartitions()\n",
        "wealth_ques2=wealth_ques2.coalesce(1)\n",
        "wealth_ques2.write.orc(\"/content/wealth_ques2.orc\", mode=\"overwrite\")\n",
        "wealth_ques2_age_agg.show()\n",
        "wealth_ques2_revenue_agg.show()\n",
        "wealth_ques2.show()"
      ]
    },
    {
      "cell_type": "code",
      "source": [],
      "metadata": {
        "id": "YTwynFXH4N6i"
      },
      "execution_count": null,
      "outputs": []
    },
    {
      "cell_type": "code",
      "execution_count": null,
      "metadata": {
        "colab": {
          "base_uri": "https://localhost:8080/"
        },
        "outputId": "f27781a6-c82f-4cc8-f183-3bc1d1076116",
        "id": "4NxWNQIv4YMH"
      },
      "outputs": [
        {
          "output_type": "stream",
          "name": "stdout",
          "text": [
            "+--------+---+--------------+--------------+\n",
            "| Revenue|Age|sum(CorpBonds)|sum(GovtBonds)|\n",
            "+--------+---+--------------+--------------+\n",
            "|30160.96| 22|             1|             1|\n",
            "|68785.59| 37|             1|             0|\n",
            "|35508.51| 23|             1|             0|\n",
            "|74006.59| 59|             0|             0|\n",
            "|79643.06| 71|             1|             1|\n",
            "|74807.55| 67|             0|             0|\n",
            "|24013.36| 32|             1|             0|\n",
            "|32456.52| 44|             0|             1|\n",
            "| 59093.1| 43|             0|             0|\n",
            "|23471.09| 41|             1|             1|\n",
            "|72117.15| 30|             0|             0|\n",
            "|78958.46| 25|             0|             1|\n",
            "|17998.75| 37|             0|             0|\n",
            "| 36480.1| 37|             1|             0|\n",
            "|28087.39| 38|             0|             1|\n",
            "|32877.03| 28|             0|             0|\n",
            "| 8414.62| 36|             1|             1|\n",
            "|10006.49| 46|             1|             1|\n",
            "|41639.52| 28|             0|             0|\n",
            "| 38385.5| 59|             1|             1|\n",
            "+--------+---+--------------+--------------+\n",
            "only showing top 20 rows\n",
            "\n"
          ]
        }
      ],
      "source": [
        "from pyspark.sql import SparkSession\n",
        "spark=SparkSession.builder.appName('df analysis').getOrCreate()\n",
        "df_of_bank = spark.read.csv(\"/content/Bank_Customers.csv\",inferSchema=True,header=True)\n",
        "wealth_ques5=df_of_bank.groupBy(\"Revenue\",\"Age\").agg({\"GovtBonds\":\"sum\", \"CorpBonds\":\"sum\"})\n",
        "wealth_ques5.rdd.getNumPartitions()\n",
        "wealth_ques5=wealth_ques5.coalesce(1)\n",
        "wealth_ques5.write.orc(\"/content/wealth_ques5.orc\")\n",
        "wealth_ques5.show()"
      ]
    },
    {
      "cell_type": "code",
      "execution_count": null,
      "metadata": {
        "colab": {
          "base_uri": "https://localhost:8080/"
        },
        "outputId": "f27781a6-c82f-4cc8-f183-3bc1d1076116",
        "id": "x5k2CN4hyJ8J"
      },
      "outputs": [
        {
          "output_type": "stream",
          "name": "stdout",
          "text": [
            "+--------+---+--------------+--------------+\n",
            "| Revenue|Age|sum(CorpBonds)|sum(GovtBonds)|\n",
            "+--------+---+--------------+--------------+\n",
            "|30160.96| 22|             1|             1|\n",
            "|68785.59| 37|             1|             0|\n",
            "|35508.51| 23|             1|             0|\n",
            "|74006.59| 59|             0|             0|\n",
            "|79643.06| 71|             1|             1|\n",
            "|74807.55| 67|             0|             0|\n",
            "|24013.36| 32|             1|             0|\n",
            "|32456.52| 44|             0|             1|\n",
            "| 59093.1| 43|             0|             0|\n",
            "|23471.09| 41|             1|             1|\n",
            "|72117.15| 30|             0|             0|\n",
            "|78958.46| 25|             0|             1|\n",
            "|17998.75| 37|             0|             0|\n",
            "| 36480.1| 37|             1|             0|\n",
            "|28087.39| 38|             0|             1|\n",
            "|32877.03| 28|             0|             0|\n",
            "| 8414.62| 36|             1|             1|\n",
            "|10006.49| 46|             1|             1|\n",
            "|41639.52| 28|             0|             0|\n",
            "| 38385.5| 59|             1|             1|\n",
            "+--------+---+--------------+--------------+\n",
            "only showing top 20 rows\n",
            "\n"
          ]
        }
      ],
      "source": [
        "from pyspark.sql import SparkSession\n",
        "spark=SparkSession.builder.appName('df analysis').getOrCreate()\n",
        "df_of_bank = spark.read.csv(\"/content/Bank_Customers.csv\",inferSchema=True,header=True)\n",
        "wealth_ques8=df_of_bank.groupBy(\"Revenue\",\"Age\").agg({\"GovtBonds\":\"sum\", \"CorpBonds\":\"sum\"})\n",
        "wealth_ques8.rdd.getNumPartitions()\n",
        "wealth_ques8=wealth_ques8.coalesce(1)\n",
        "wealth_ques8.write.orc(\"/content/wealth_ques8.orc\")\n",
        "wealth_ques8.show()"
      ]
    },
    {
      "cell_type": "code",
      "source": [
        "df_of_sharemarket = spark.read.csv(\"/content/sharemarket.csv\",inferSchema=True,header=True)"
      ],
      "metadata": {
        "id": "aM-e3U5KkqIl"
      },
      "execution_count": null,
      "outputs": []
    },
    {
      "cell_type": "code",
      "source": [
        "new_share_df=[\"MARKET\",\"SERIES\",\"SYMBOL\",\"SECURITY\",\"PREV_CL_PR\",\"OPEN_PRICE\",\"HIGH_PRICE\",\"LOW_PRICE\",\"CLOSE_PRICE\",\"NET_TRDVAL\",\"NET_TRDQTY\",\"CORP_IND\",\"TRADES\",\"HI_52_WK\",\"LO_52_WK\"]"
      ],
      "metadata": {
        "id": "R1SfrrLTnTRC"
      },
      "execution_count": null,
      "outputs": []
    },
    {
      "cell_type": "code",
      "source": [
        "share_with_columns=df_of_sharemarket.toDF(*new_share_df)"
      ],
      "metadata": {
        "id": "qTwkCfWrn_rx"
      },
      "execution_count": null,
      "outputs": []
    },
    {
      "cell_type": "code",
      "source": [
        "df_of_bankcustomers = spark.read.csv(\"/content/Bank_Customers.csv\",inferSchema=True,header=True)"
      ],
      "metadata": {
        "id": "l5Ll3DBimzFK"
      },
      "execution_count": null,
      "outputs": []
    },
    {
      "cell_type": "code",
      "source": [
        "share_with_columns.show()"
      ],
      "metadata": {
        "colab": {
          "base_uri": "https://localhost:8080/"
        },
        "id": "azlGs8oeqXeI",
        "outputId": "264b23b6-30fe-44a3-e1fb-610b96674001"
      },
      "execution_count": null,
      "outputs": [
        {
          "output_type": "stream",
          "name": "stdout",
          "text": [
            "+------+------+----------+--------------------+----------+----------+----------+---------+-----------+----------+----------+--------+------+--------+--------+\n",
            "|MARKET|SERIES|    SYMBOL|            SECURITY|PREV_CL_PR|OPEN_PRICE|HIGH_PRICE|LOW_PRICE|CLOSE_PRICE|NET_TRDVAL|NET_TRDQTY|CORP_IND|TRADES|HI_52_WK|LO_52_WK|\n",
            "+------+------+----------+--------------------+----------+----------+----------+---------+-----------+----------+----------+--------+------+--------+--------+\n",
            "|     N|    N1|      JNPT|BOND 6.82% PA TAX...|    1001.0|    1007.1|    1015.0|   1007.1|     1015.0|   51370.0|        51|        |     2| 1529.99|  1000.0|\n",
            "|     N|    N1|      NHAI|BOND 8.20% PA TAX...|   1091.38|    1092.0|    1092.0|   1087.0|    1089.98|3861145.49|      3544|        |    39|  1140.0|  1045.0|\n",
            "|     N|    N1|      NTPC|8.41%S-R-NCD SERI...|   1198.99|    1135.0|    1135.0|   1135.0|     1135.0|  113500.0|       100|        |     1|  1275.0|  1022.1|\n",
            "|     N|    N1|    RECLTD|TAXFREE SEC NCD T...|   1083.54|    1088.0|    1088.0|   1085.0|     1085.0|  108530.0|       100|        |     2|  1184.8|  1041.0|\n",
            "|     N|    N2| BRITANNIA|   8.00% SEC RED NCD|     33.07|     33.07|      33.2|     32.8|      33.14| 677372.39|     20461|        |   107|    36.0|    29.9|\n",
            "|     N|    N2|     HUDCO|8.20 NCD05MAR27 F...|    1215.0|    1222.0|    1222.0|   1222.0|     1222.0|    3666.0|         3|        |     2|  1311.0|  1171.0|\n",
            "|     N|    N2|     IIFCL|  8.66% TAX FREE NCD|    1135.0|    1137.0|    1137.0|   1137.0|     1137.0|    4548.0|         4|        |     1|  1390.0|  1101.1|\n",
            "|     N|    N2|    M&MFIN| 9.00% UNSECURED NCD|    1104.0|   1101.98|   1101.98|  1080.05|    1089.43|  423116.5|       388|        |    12|  1229.0|  1049.5|\n",
            "|     N|    N2|    NABARD|7.64% TAX FREE TR...|    1238.5|   1239.01|   1239.55|  1237.01|    1238.22| 125060.45|       101|        |     4|  1304.8|  1181.0|\n",
            "|     N|    N2|      NHAI|BOND 8.30% PA TAX...|    1258.5|    1255.5|    1257.0|   1253.1|    1256.45|  464590.5|       370|        |     6|  1294.9|  1176.0|\n",
            "|     N|    N2|      NTPC|8.48%S-R-NCD SERI...|    1282.0|    1282.5|    1283.0|   1282.5|     1283.0|  128275.0|       100|        |     2|  1854.0|  1225.0|\n",
            "|     N|    N2|     PCHFL|SEC RE NCD 8.35% ...|    1000.0|    1000.0|   1004.67|   1000.0|    1001.68| 526800.91|       526|        |    17|  1028.0|  981.01|\n",
            "|     N|    N2|    RECLTD|TAXFREE SEC NCD T...|    1207.0|    1192.0|    1192.0|   1192.0|     1192.0|  238400.0|       200|        |     1|  1288.0|  1160.0|\n",
            "|     N|    N2|TATACAPHSG|SEC RED NCD 8.10%...|   1054.21|   1055.01|    1058.0|   1055.0|     1058.0| 1105942.5|      1048|        |    42|  1160.0|   950.0|\n",
            "|     N|    N3| BRITANNIA| UNSEC RED NCD 5.50%|     29.43|      29.4|      29.7|    29.38|      29.47|4233217.99|    143810|        |   787|    30.5|    29.0|\n",
            "|     N|    N3|DHANILOANS|DHANI LOANS & SER...|    1008.0|    1002.0|    1003.0|   1002.0|     1003.0|   78158.0|        78|        |     5|  1030.0|   810.0|\n",
            "|     N|    N3|     HUDCO|8.10 NCD 05MAR22 ...|   1054.84|   1054.84|    1055.9|  1054.52|    1054.91|1729096.92|      1639|        |    19|  1320.0|  1000.0|\n",
            "|     N|    N4|DHANILOANS|DHANI LOANS & SER...|    1020.8|   1022.01|   1022.01|  1022.01|    1022.01|   2044.02|         2|        |     1| 1098.75|   851.0|\n",
            "|     N|    N4|  ERFLNCDI|SEC RED NCD 9.00%...|     986.0|    988.22|    988.22|   988.22|     988.22|   29646.6|        30|        |     1|  1050.0|  829.95|\n",
            "|     N|    N4|     HUDCO|7.34 NCD 16FEB23 ...|   1088.66|   1073.01|    1073.1|  1073.01|    1073.05|  118037.8|       110|        |     3|  1153.5|  1005.6|\n",
            "+------+------+----------+--------------------+----------+----------+----------+---------+-----------+----------+----------+--------+------+--------+--------+\n",
            "only showing top 20 rows\n",
            "\n"
          ]
        }
      ]
    },
    {
      "cell_type": "code",
      "source": [
        "ques8=share_with_columns.filter(share_with_columns[\"TRADES\"]>80).select(\"SERIES\").show()"
      ],
      "metadata": {
        "colab": {
          "base_uri": "https://localhost:8080/"
        },
        "id": "1_NYcfEsqicm",
        "outputId": "368f47e1-930b-42d6-95c8-c99ca55a77c2"
      },
      "execution_count": null,
      "outputs": [
        {
          "output_type": "stream",
          "name": "stdout",
          "text": [
            "+------+\n",
            "|SERIES|\n",
            "+------+\n",
            "|    N2|\n",
            "|    N3|\n",
            "|    N7|\n",
            "+------+\n",
            "\n"
          ]
        }
      ]
    },
    {
      "cell_type": "code",
      "source": [
        "from pyspark.sql.functions import sum\n",
        "\n",
        "share_ques9 = share_with_columns.groupBy(\"SERIES\").agg((sum(share_with_columns[\"NET_TRDVAL\"]) - sum(share_with_columns[\"NET_TRDQTY\"])).alias(\"DIFFERENCE\")).show()"
      ],
      "metadata": {
        "colab": {
          "base_uri": "https://localhost:8080/"
        },
        "id": "JtAe7xRdrbQx",
        "outputId": "666c6a83-09cd-404c-8af6-0c0cc05fed52"
      },
      "execution_count": null,
      "outputs": [
        {
          "output_type": "stream",
          "name": "stdout",
          "text": [
            "+------+----------+\n",
            "|SERIES|DIFFERENCE|\n",
            "+------+----------+\n",
            "|    YH|   61270.1|\n",
            "|    NS|  354013.9|\n",
            "|    NL|1581525.31|\n",
            "|    NK|1010121.69|\n",
            "|    Z4|   36956.6|\n",
            "|    NJ|7421503.24|\n",
            "|    NX|  12728.72|\n",
            "|    YS|   79055.0|\n",
            "|    NW|  203456.5|\n",
            "|    NA|3331953.97|\n",
            "|    Z8|  332530.0|\n",
            "|    YA|   2354.92|\n",
            "|    NP|  316500.2|\n",
            "|    N3|5894945.91|\n",
            "|    NH|1686244.58|\n",
            "|    NE|2538813.87|\n",
            "|    NC|2505038.79|\n",
            "|    NQ|    6280.0|\n",
            "|    Z1| 202640.32|\n",
            "|    NR|  461379.5|\n",
            "+------+----------+\n",
            "only showing top 20 rows\n",
            "\n"
          ]
        }
      ]
    },
    {
      "cell_type": "code",
      "source": [
        "df_of_bank = spark.read.csv(\"/content/Bank_Customers.csv\",inferSchema=True,header=True)"
      ],
      "metadata": {
        "id": "w7AlalXIcSbr"
      },
      "execution_count": null,
      "outputs": []
    },
    {
      "cell_type": "code",
      "source": [
        "df_of_bank.show()"
      ],
      "metadata": {
        "colab": {
          "base_uri": "https://localhost:8080/"
        },
        "id": "m1nOp205dnle",
        "outputId": "7dba09be-90a7-4d46-bfe4-9350df631c32"
      },
      "execution_count": null,
      "outputs": [
        {
          "output_type": "stream",
          "name": "stdout",
          "text": [
            "+---------+----------+---------+-----------+-------+------+-------+---+----------+------------+---------+------------------+----------+-------------+---------+---------+--------+----------+-------+---------------+--------+------------+-----+----------+----------------+---------------+-------------+--------+------+-------------+---------------+-------------------+------------------+-------------+-----------+-----+--------+---------+----+\n",
            "|RowNumber|CustomerID|  Surname|CreditScore|Country|Gender|Married|Age|Dependents|NumBankAccts|HasCrCard|EmergingMarketFund|RealEstate|PrivateEquity|GovtBonds|CorpBonds|ETF Tech|ETF Health|ETF Med|EstimatedSalary|Mortgage|Risk Profile| Debt|Net Assets|Portfolio Return|Diversification|BusinessOwner| Revenue|Margin|LifeInsurance|NumTransactions|LastTransactionDate|LastTransactionAmt|ForeignAssets|NumProducts|Churn|Discount|Retention| CLV|\n",
            "+---------+----------+---------+-----------+-------+------+-------+---+----------+------------+---------+------------------+----------+-------------+---------+---------+--------+----------+-------+---------------+--------+------------+-----+----------+----------------+---------------+-------------+--------+------+-------------+---------------+-------------------+------------------+-------------+-----------+-----+--------+---------+----+\n",
            "|        1|  15634602| Hargrave|        619| France|Female|      1| 42|         3|           1|        1|                 1|         0|            1|        0|        1|       1|         1|      0|         101349|       1|        0.16|    0|     75615|          0.1232|         0.3623|            0|65424.71|  0.08|            1|              5|          1/27/2019|            2095.3|         0.39|          4|    0|    0.21|     NULL|NULL|\n",
            "|        2|  15647311|     Hill|        608|  Spain|Female|      1| 41|         2|           1|        0|                 1|         0|            0|        1|        0|       0|         1|      1|         112543|       0|        0.48|33658|     21131|          0.1262|          0.405|            1|23130.27|  0.04|            1|              8|          2/25/2019|            9955.2|         0.21|          1|    0|     0.5|     NULL|NULL|\n",
            "|        3|  15619304|     Onio|        502| France|Female|      1| 42|         2|           3|        1|                 1|         0|            0|        1|        0|       1|         1|      1|         113932|       1|        0.13|    0|     86608|          0.0997|         0.4239|            0|19497.81|   0.1|            0|              3|          11/5/2017|            9123.1|          0.0|          5|    1|    0.37|     NULL|NULL|\n",
            "|        4|  15701354|     Boni|        699| France|Female|      1| 39|         0|           2|        0|                 1|         0|            0|        0|        0|       1|         0|      0|          93827|       0|        0.21| 1431|     54767|          0.0932|         0.1576|            0|63760.01|  0.08|            0|              5|           1/7/2019|            5973.3|          0.4|          5|    0|    0.72|     NULL|NULL|\n",
            "|        5|  15737888| Mitchell|        850|  Spain|Female|      1| 43|         0|           1|        1|                 1|         1|            1|        0|        0|       0|         1|      0|          79084|       0|        0.03|40265|     28374|          0.1289|         0.1568|            0|14422.97|  0.04|            1|              2|          3/28/2015|            9834.4|         0.13|          4|    0|    0.26|     NULL|NULL|\n",
            "|        6|  15574012|      Chu|        645|  Spain|  Male|      1| 44|         2|           2|        1|                 0|         1|            1|        1|        1|       0|         0|      1|         149757|       1|        0.04|26063|     92294|          0.1444|         0.1831|            1|43903.89|  0.07|            0|             10|         12/16/2017|            5178.1|          0.0|          4|    1|    0.07|     NULL|NULL|\n",
            "|        7|  15592531| Bartlett|        822| France|  Male|      0| 50|         1|           2|        1|                 1|         1|            1|        0|        1|       1|         0|      0|          10063|       0|        0.26|16828|     75072|          0.1273|         0.3871|            0|79283.95|   0.1|            1|              8|          9/24/2017|            1720.0|          0.0|          6|    1|    0.25|     NULL|NULL|\n",
            "|        8|  15656148|   Obinna|        376|Germany|Female|      1| 29|         5|           4|        1|                 1|         1|            0|        0|        1|       0|         1|      1|         119347|       1|        0.16|11864|     81031|          0.1072|         0.2312|            1|10517.56|  0.08|            0|              9|          1/30/2016|            8945.4|         0.47|          3|    1|    0.27|     NULL|NULL|\n",
            "|        9|  15792365|       Hu|        501| France|  Male|      1| 44|         0|           2|        0|                 1|         0|            0|        0|        0|       0|         1|      0|          74941|       0|        0.45|31645|     85517|          0.1115|         0.1644|            0|44416.56|  0.09|            1|              2|          5/12/2017|            6272.4|          0.0|          1|    1|    0.43|     NULL|NULL|\n",
            "|       10|  15592389|    Huang|        684| France|  Male|      1| 27|         1|           1|        1|                 1|         1|            0|        0|        1|       0|         1|      1|          71726|       0|        0.38|34991|     59761|          0.1394|            0.4|            1|76232.61|   0.1|            1|              1|          4/29/2017|            1019.6|         0.41|          2|    0|    0.46|     NULL|NULL|\n",
            "|       11|  15767821|   Bearce|        528| France|  Male|      1| 31|         0|           2|        0|                 1|         1|            0|        1|        1|       1|         1|      1|          80181|       0|         0.4|    0|     51456|           0.123|         0.3176|            0|12631.02|  0.06|            0|              4|          3/24/2018|            9654.0|          0.0|          3|    1|    0.62|     NULL|NULL|\n",
            "|       12|  15737173|  Andrews|        497|  Spain|  Male|      1| 24|         1|           2|        1|                 0|         1|            1|        1|        0|       1|         0|      0|          76390|       0|        0.34|18209|     97442|           0.174|          0.318|            1|66437.53|  0.08|            0|              8|          5/14/2016|            4454.9|         0.19|          6|    0|    0.47|     NULL|NULL|\n",
            "|       13|  15632264|      Kay|        476| France|Female|      0| 34|         0|           2|        1|                 0|         0|            0|        1|        1|       0|         0|      0|          26261|       0|        0.05| 5332|     96728|          0.0882|         0.2043|            0| 15942.0|  0.03|            0|              8|           5/6/2016|            8187.5|         0.33|          6|    1|     0.4|     NULL|NULL|\n",
            "|       14|  15691483|     Chin|        549| France|Female|      1| 25|         5|           2|        0|                 1|         1|            0|        0|        1|       1|         0|      0|         190858|       0|        0.49|10541|     80280|          0.1242|         0.3275|            0|74170.58|  0.11|            0|              6|          12/6/2018|            4886.6|          0.0|          2|    0|    0.31|     NULL|NULL|\n",
            "|       15|  15600882|    Scott|        635|  Spain|Female|      1| 35|         0|           2|        1|                 0|         0|            0|        0|        1|       0|         0|      0|          65952|       0|        0.28|34720|     54986|          0.1313|         0.4099|            0|70164.99|   0.1|            1|              3|          4/24/2015|            2681.4|         0.03|          3|    0|    0.21|     NULL|NULL|\n",
            "|       16|  15643966|  Goforth|        616|Germany|  Male|      1| 45|         0|           2|        0|                 1|         0|            1|        1|        0|       1|         0|      1|          64327|       0|        0.42|19521|     49505|          0.1165|         0.4519|            1|51048.98|  0.09|            1|             10|          1/23/2018|            2424.8|          0.0|          4|    1|    0.31|     NULL|NULL|\n",
            "|       17|  15737452|    Romeo|        653|Germany|  Male|      0| 58|         0|           1|        1|                 1|         1|            1|        0|        1|       1|         0|      1|          25098|       1|        0.32|    0|     88825|          0.1618|         0.1328|            1|28980.38|  0.07|            0|             10|           5/9/2016|            2094.3|          0.0|          4|    0|    0.13|     NULL|NULL|\n",
            "|       18|  15788218|Henderson|        549|  Spain|Female|      0| 24|         1|           2|        1|                 0|         0|            0|        1|        0|       0|         0|      0|          14406|       0|        0.13|26508|     37910|          0.1659|          0.335|            0|57603.84|  0.06|            1|              4|         11/18/2016|            7700.1|         0.22|          6|    0|    0.31|     NULL|NULL|\n",
            "|       19|  15661507|  Muldrow|        587|  Spain|  Male|      1| 45|         2|           1|        0|                 0|         0|            1|        0|        0|       0|         1|      1|         158685|       0|        0.37|20227|     91309|          0.1191|         0.4464|            0| 12639.9|  0.12|            0|             10|         11/15/2016|            1691.3|         0.15|          5|    0|    0.03|     NULL|NULL|\n",
            "|       20|  15568982|      Hao|        726| France|Female|      0| 24|         1|           2|        1|                 0|         0|            0|        0|        0|       1|         0|      0|          54724|       0|        0.38|15789|     34095|          0.1027|         0.4223|            1|18036.71|  0.09|            1|             10|          8/22/2017|            9072.7|          0.0|          1|    0|    0.36|     NULL|NULL|\n",
            "+---------+----------+---------+-----------+-------+------+-------+---+----------+------------+---------+------------------+----------+-------------+---------+---------+--------+----------+-------+---------------+--------+------------+-----+----------+----------------+---------------+-------------+--------+------+-------------+---------------+-------------------+------------------+-------------+-----------+-----+--------+---------+----+\n",
            "only showing top 20 rows\n",
            "\n"
          ]
        }
      ]
    },
    {
      "cell_type": "code",
      "source": [
        "#Total number of govt. bonds and corp. bonds by revenue wise and age wise.\n",
        "wealth_ques8=df_of_bank.groupBy(\"Revenue\",\"Age\").agg({\"GovtBonds\":\"sum\", \"CorpBonds\":\"sum\"}).show()"
      ],
      "metadata": {
        "colab": {
          "base_uri": "https://localhost:8080/"
        },
        "id": "OifeN3CvdwjH",
        "outputId": "8bef89f6-88e5-44e8-8a4c-7bf71cfa1802"
      },
      "execution_count": null,
      "outputs": [
        {
          "output_type": "stream",
          "name": "stdout",
          "text": [
            "+--------+---+--------------+--------------+\n",
            "| Revenue|Age|sum(CorpBonds)|sum(GovtBonds)|\n",
            "+--------+---+--------------+--------------+\n",
            "|30160.96| 22|             1|             1|\n",
            "|68785.59| 37|             1|             0|\n",
            "|35508.51| 23|             1|             0|\n",
            "|74006.59| 59|             0|             0|\n",
            "|79643.06| 71|             1|             1|\n",
            "|74807.55| 67|             0|             0|\n",
            "|24013.36| 32|             1|             0|\n",
            "|32456.52| 44|             0|             1|\n",
            "| 59093.1| 43|             0|             0|\n",
            "|23471.09| 41|             1|             1|\n",
            "|72117.15| 30|             0|             0|\n",
            "|78958.46| 25|             0|             1|\n",
            "|17998.75| 37|             0|             0|\n",
            "| 36480.1| 37|             1|             0|\n",
            "|28087.39| 38|             0|             1|\n",
            "|32877.03| 28|             0|             0|\n",
            "| 8414.62| 36|             1|             1|\n",
            "|10006.49| 46|             1|             1|\n",
            "|41639.52| 28|             0|             0|\n",
            "| 38385.5| 59|             1|             1|\n",
            "+--------+---+--------------+--------------+\n",
            "only showing top 20 rows\n",
            "\n"
          ]
        }
      ]
    },
    {
      "cell_type": "code",
      "source": [
        "#Total number of govt. bonds and corp. bonds by revenue wise and age wise.\n",
        "wealth_ques8=df_of_bank.groupBy(\"Revenue\").agg({\"GovtBonds\":\"sum\", \"CorpBonds\":\"sum\"}).show()"
      ],
      "metadata": {
        "colab": {
          "base_uri": "https://localhost:8080/"
        },
        "id": "IZ9tn3YmfxbF",
        "outputId": "d76d9a74-8547-4dfe-a986-3228dc106069"
      },
      "execution_count": null,
      "outputs": [
        {
          "output_type": "stream",
          "name": "stdout",
          "text": [
            "+--------+--------------+--------------+\n",
            "| Revenue|sum(CorpBonds)|sum(GovtBonds)|\n",
            "+--------+--------------+--------------+\n",
            "|35838.75|             0|             0|\n",
            "|30060.33|             0|             0|\n",
            "| 9599.69|             0|             1|\n",
            "|15215.72|             1|             1|\n",
            "|74171.66|             0|             1|\n",
            "|60495.18|             1|             0|\n",
            "|71882.81|             1|             1|\n",
            "|15055.22|             1|             0|\n",
            "|91074.23|             1|             0|\n",
            "| 34249.0|             0|             0|\n",
            "| 9228.47|             0|             1|\n",
            "|12847.63|             1|             1|\n",
            "| 20189.9|             0|             0|\n",
            "|33690.76|             0|             1|\n",
            "|10006.49|             1|             1|\n",
            "|48039.84|             0|             1|\n",
            "|79983.81|             0|             1|\n",
            "|71057.62|             1|             0|\n",
            "| 6662.04|             1|             1|\n",
            "|33551.89|             0|             1|\n",
            "+--------+--------------+--------------+\n",
            "only showing top 20 rows\n",
            "\n"
          ]
        }
      ]
    },
    {
      "cell_type": "code",
      "source": [
        "#Total number of govt. bonds and corp. bonds by revenue wise and age wise.\n",
        "wealth_ques8=df_of_bank.groupBy(\"Age\").agg({\"GovtBonds\":\"count\", \"CorpBonds\":\"sum\"}).show()"
      ],
      "metadata": {
        "colab": {
          "base_uri": "https://localhost:8080/"
        },
        "id": "G8vloD2Zhm7_",
        "outputId": "c17811d5-de01-48c5-8082-4868813b004e"
      },
      "execution_count": null,
      "outputs": [
        {
          "output_type": "stream",
          "name": "stdout",
          "text": [
            "+----+--------------+----------------+\n",
            "| Age|sum(CorpBonds)|count(GovtBonds)|\n",
            "+----+--------------+----------------+\n",
            "|  31|           201|             404|\n",
            "|  85|             0|               1|\n",
            "|  65|            13|              18|\n",
            "|  53|            35|              74|\n",
            "|  78|             4|               5|\n",
            "|  34|           224|             447|\n",
            "|  81|             3|               4|\n",
            "|  28|           146|             273|\n",
            "|  76|             5|              11|\n",
            "|  27|           118|             209|\n",
            "|  26|           109|             200|\n",
            "|  44|           114|             257|\n",
            "|  22|            40|              84|\n",
            "|  47|            94|             175|\n",
            "|NULL|          NULL|               0|\n",
            "|  52|            49|             102|\n",
            "|  40|           203|             432|\n",
            "|  20|            18|              40|\n",
            "|  57|            34|              75|\n",
            "|  54|            43|              84|\n",
            "+----+--------------+----------------+\n",
            "only showing top 20 rows\n",
            "\n"
          ]
        }
      ]
    }
  ]
}