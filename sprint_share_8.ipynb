{
  "nbformat": 4,
  "nbformat_minor": 0,
  "metadata": {
    "colab": {
      "provenance": []
    },
    "kernelspec": {
      "name": "python3",
      "display_name": "Python 3"
    },
    "language_info": {
      "name": "python"
    }
  },
  "cells": [
    {
      "cell_type": "code",
      "execution_count": null,
      "metadata": {
        "colab": {
          "base_uri": "https://localhost:8080/"
        },
        "id": "EBnUKTGCCQG7",
        "outputId": "ce3408a6-3da1-4bb4-96fa-bd8269ff513c"
      },
      "outputs": [
        {
          "output_type": "execute_result",
          "data": {
            "text/plain": [
              "['N2', 'N3', 'N7']"
            ]
          },
          "metadata": {},
          "execution_count": 15
        }
      ],
      "source": [
        "from pyspark import SparkContext\n",
        "sc=SparkContext.getOrCreate()\n",
        "share_data=sc.textFile('/content/sharemarket.csv')\n",
        "share_data.getNumPartitions()\n",
        "share_clean=share_data.coalesce(1).cache()\n",
        "share_sheet=share_clean.map(lambda l:l.split(\",\")).map(lambda t:(t[1],int(t[12])))\n",
        "share_result=share_sheet.filter(lambda x:x[1]>=80)\n",
        "share_ques_8=share_result.map(lambda x:x[0])\n",
        "share_ques_8.collect()"
      ]
    },
    {
      "cell_type": "code",
      "source": [
        "share_ques_8.saveAsTextFile('/content/share_ques_8.txt')"
      ],
      "metadata": {
        "id": "YgnDDh1V0g-d"
      },
      "execution_count": null,
      "outputs": []
    },
    {
      "cell_type": "code",
      "source": [
        "share_data=sc.textFile('/content/sharemarket.csv')"
      ],
      "metadata": {
        "id": "9gMfVUekCjBp"
      },
      "execution_count": null,
      "outputs": []
    },
    {
      "cell_type": "code",
      "source": [
        "share_data.getNumPartitions()"
      ],
      "metadata": {
        "colab": {
          "base_uri": "https://localhost:8080/"
        },
        "id": "5TR7d_V5C1Ru",
        "outputId": "0c27c39e-a1b5-4396-b8df-8e9916ca119c"
      },
      "execution_count": null,
      "outputs": [
        {
          "output_type": "execute_result",
          "data": {
            "text/plain": [
              "2"
            ]
          },
          "metadata": {},
          "execution_count": 3
        }
      ]
    },
    {
      "cell_type": "code",
      "source": [
        "share_clean=share_data.coalesce(1)"
      ],
      "metadata": {
        "id": "vaJjIh8CDGNl"
      },
      "execution_count": null,
      "outputs": []
    },
    {
      "cell_type": "code",
      "source": [
        "share_clean.take(3)"
      ],
      "metadata": {
        "colab": {
          "base_uri": "https://localhost:8080/"
        },
        "id": "BRTAbnI1DNHi",
        "outputId": "2fa643e4-267a-4811-8c8c-49e121f5393b"
      },
      "execution_count": null,
      "outputs": [
        {
          "output_type": "execute_result",
          "data": {
            "text/plain": [
              "['N,N1,IRFC,BOND 8.00% PA TAX FREE S1,1086,1085,1085,1084.54,1085,3371959.44,3108, ,8,1194,1050',\n",
              " 'N,N1,JNPT,BOND 6.82% PA TAX FREE S1,1001,1007.1,1015,1007.1,1015,51370,51, ,2,1529.99,1000',\n",
              " 'N,N1,NHAI,BOND 8.20% PA TAX FREE S1,1091.38,1092,1092,1087,1089.98,3861145.49,3544, ,39,1140,1045']"
            ]
          },
          "metadata": {},
          "execution_count": 5
        }
      ]
    },
    {
      "cell_type": "code",
      "source": [
        "share_sheet=share_clean.map(lambda l:l.split(\",\")).map(lambda t:(t[1],int(t[12])))"
      ],
      "metadata": {
        "id": "SSbTqIuOEkD9"
      },
      "execution_count": null,
      "outputs": []
    },
    {
      "cell_type": "code",
      "source": [
        "share_result=share_sheet.filter(lambda x:x[1]>=80)\n",
        "share_output=share_result.map(lambda x:x[0])\n",
        "share_output.take(3)"
      ],
      "metadata": {
        "colab": {
          "base_uri": "https://localhost:8080/"
        },
        "id": "HoaIImg8KIci",
        "outputId": "83b577c3-4080-4b79-d9eb-209a8974dd05"
      },
      "execution_count": null,
      "outputs": [
        {
          "output_type": "execute_result",
          "data": {
            "text/plain": [
              "['N2', 'N3', 'N7']"
            ]
          },
          "metadata": {},
          "execution_count": 7
        }
      ]
    },
    {
      "cell_type": "code",
      "source": [],
      "metadata": {
        "id": "BlHBQSxetVQX"
      },
      "execution_count": null,
      "outputs": []
    }
  ]
}